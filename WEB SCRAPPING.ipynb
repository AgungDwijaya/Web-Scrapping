{
 "cells": [
  {
   "cell_type": "markdown",
   "metadata": {},
   "source": [
    "# Mengimport Library"
   ]
  },
  {
   "cell_type": "code",
   "execution_count": 8,
   "metadata": {},
   "outputs": [],
   "source": [
    "import requests\n",
    "import pandas as pd\n",
    "import numpy as np\n",
    "from bs4 import BeautifulSoup"
   ]
  },
  {
   "cell_type": "markdown",
   "metadata": {},
   "source": [
    "# Test URL dan Requests HTML data"
   ]
  },
  {
   "cell_type": "code",
   "execution_count": 12,
   "metadata": {},
   "outputs": [],
   "source": [
    "URL = \"https://www.worldometers.info/coronavirus/\"\n",
    "\n",
    "html_page = requests.get(URL).text"
   ]
  },
  {
   "cell_type": "markdown",
   "metadata": {},
   "source": [
    "# BeautiulSoup Extract data"
   ]
  },
  {
   "cell_type": "code",
   "execution_count": 14,
   "metadata": {},
   "outputs": [],
   "source": [
    "soup = BeautifulSoup(html_page, 'lxml')"
   ]
  },
  {
   "cell_type": "code",
   "execution_count": 16,
   "metadata": {},
   "outputs": [],
   "source": [
    "get_table = soup.find('table', id='main_table_countries_today')\n",
    "get_table_data = get_table.tbody.find_all(\"tr\")"
   ]
  },
  {
   "cell_type": "code",
   "execution_count": 31,
   "metadata": {},
   "outputs": [
    {
     "data": {
      "text/html": [
       "<div>\n",
       "<style scoped>\n",
       "    .dataframe tbody tr th:only-of-type {\n",
       "        vertical-align: middle;\n",
       "    }\n",
       "\n",
       "    .dataframe tbody tr th {\n",
       "        vertical-align: top;\n",
       "    }\n",
       "\n",
       "    .dataframe thead th {\n",
       "        text-align: right;\n",
       "    }\n",
       "</style>\n",
       "<table border=\"1\" class=\"dataframe\">\n",
       "  <thead>\n",
       "    <tr style=\"text-align: right;\">\n",
       "      <th></th>\n",
       "      <th>Total Cases</th>\n",
       "      <th>NewCases</th>\n",
       "      <th>Total Deaths</th>\n",
       "      <th>New Deaths</th>\n",
       "      <th>Total Recovered</th>\n",
       "      <th>Active Cases</th>\n",
       "      <th>Serius Critical</th>\n",
       "      <th>Tot Cases/1M pop</th>\n",
       "      <th>Death/1M pop</th>\n",
       "    </tr>\n",
       "  </thead>\n",
       "  <tbody>\n",
       "    <tr>\n",
       "      <td>USA</td>\n",
       "      <td>142,735</td>\n",
       "      <td>+275</td>\n",
       "      <td>2,488</td>\n",
       "      <td>+4</td>\n",
       "      <td>4,562</td>\n",
       "      <td>135,685</td>\n",
       "      <td>2,970</td>\n",
       "      <td>431</td>\n",
       "      <td>8</td>\n",
       "    </tr>\n",
       "    <tr>\n",
       "      <td>Italy</td>\n",
       "      <td>97,689</td>\n",
       "      <td>None</td>\n",
       "      <td>10,779</td>\n",
       "      <td>None</td>\n",
       "      <td>13,030</td>\n",
       "      <td>73,880</td>\n",
       "      <td>3,906</td>\n",
       "      <td>1,616</td>\n",
       "      <td>178</td>\n",
       "    </tr>\n",
       "    <tr>\n",
       "      <td>Spain</td>\n",
       "      <td>80,110</td>\n",
       "      <td>None</td>\n",
       "      <td>6,803</td>\n",
       "      <td>None</td>\n",
       "      <td>14,709</td>\n",
       "      <td>58,598</td>\n",
       "      <td>4,165</td>\n",
       "      <td>1,713</td>\n",
       "      <td>146</td>\n",
       "    </tr>\n",
       "    <tr>\n",
       "      <td>Germany</td>\n",
       "      <td>62,435</td>\n",
       "      <td>None</td>\n",
       "      <td>541</td>\n",
       "      <td>None</td>\n",
       "      <td>9,211</td>\n",
       "      <td>52,683</td>\n",
       "      <td>1,979</td>\n",
       "      <td>745</td>\n",
       "      <td>6</td>\n",
       "    </tr>\n",
       "    <tr>\n",
       "      <td>France</td>\n",
       "      <td>40,174</td>\n",
       "      <td>None</td>\n",
       "      <td>2,606</td>\n",
       "      <td>None</td>\n",
       "      <td>7,202</td>\n",
       "      <td>30,366</td>\n",
       "      <td>4,632</td>\n",
       "      <td>615</td>\n",
       "      <td>40</td>\n",
       "    </tr>\n",
       "  </tbody>\n",
       "</table>\n",
       "</div>"
      ],
      "text/plain": [
       "        Total Cases NewCases Total Deaths New Deaths Total Recovered  \\\n",
       "USA         142,735     +275       2,488          +4           4,562   \n",
       "Italy        97,689     None      10,779        None          13,030   \n",
       "Spain        80,110     None       6,803        None          14,709   \n",
       "Germany      62,435     None         541        None           9,211   \n",
       "France       40,174     None       2,606        None           7,202   \n",
       "\n",
       "        Active Cases Serius Critical Tot Cases/1M pop Death/1M pop  \n",
       "USA          135,685           2,970              431            8  \n",
       "Italy         73,880           3,906            1,616          178  \n",
       "Spain         58,598           4,165            1,713          146  \n",
       "Germany       52,683           1,979              745            6  \n",
       "France        30,366           4,632              615           40  "
      ]
     },
     "execution_count": 31,
     "metadata": {},
     "output_type": "execute_result"
    }
   ],
   "source": [
    "dic = {}\n",
    "\n",
    "for i in range(len(get_table_data)):\n",
    "    try:\n",
    "        key = get_table_data[i].find_all(\"a\", href=True)[0].string\n",
    "    except:\n",
    "         key = get_table_data[i].find_all(\"td\")[0].string\n",
    "    \n",
    "    values = [j.string for j in get_table_data[i].find_all('td')]\n",
    "    \n",
    "    dic[key]=values\n",
    "    \n",
    "column_names = [\"Total Cases\", \"NewCases\", \"Total Deaths\", \"New Deaths\", \"Total Recovered\", \"Active Cases\", \"Serius Critical\", \"Tot Cases/1M pop\", \"Death/1M pop\"]\n",
    "   \n",
    "df =pd.DataFrame(dic).iloc[1:,:].T.iloc[:,:9]\n",
    "\n",
    "df.index_name = 'Country'\n",
    "\n",
    "df.columns = column_names\n",
    "\n",
    "df.head()\n",
    "    "
   ]
  },
  {
   "cell_type": "markdown",
   "metadata": {},
   "source": [
    "# Save to table"
   ]
  },
  {
   "cell_type": "code",
   "execution_count": 32,
   "metadata": {},
   "outputs": [],
   "source": [
    "df.to_csv(\"Corona_live_cases.csv\")"
   ]
  }
 ],
 "metadata": {
  "kernelspec": {
   "display_name": "Python 3",
   "language": "python",
   "name": "python3"
  },
  "language_info": {
   "codemirror_mode": {
    "name": "ipython",
    "version": 3
   },
   "file_extension": ".py",
   "mimetype": "text/x-python",
   "name": "python",
   "nbconvert_exporter": "python",
   "pygments_lexer": "ipython3",
   "version": "3.7.4"
  }
 },
 "nbformat": 4,
 "nbformat_minor": 2
}
